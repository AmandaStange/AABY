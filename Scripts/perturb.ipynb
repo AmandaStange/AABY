{
 "cells": [
  {
   "cell_type": "code",
   "execution_count": 1,
   "id": "988edaf1",
   "metadata": {},
   "outputs": [],
   "source": [
    "import mdtraj as md\n",
    "import numpy as np"
   ]
  },
  {
   "cell_type": "code",
   "execution_count": 2,
   "id": "a5d36972",
   "metadata": {},
   "outputs": [],
   "source": [
    "traj = md.load('../7SL6_nonperturbed.pdb')"
   ]
  },
  {
   "cell_type": "code",
   "execution_count": 3,
   "id": "b9f875a3",
   "metadata": {},
   "outputs": [],
   "source": [
    "shift = 0.01\n",
    "traj.xyz = traj.xyz + np.random.normal(-shift, shift, traj.xyz.shape)"
   ]
  },
  {
   "cell_type": "code",
   "execution_count": 4,
   "id": "6a719f36",
   "metadata": {},
   "outputs": [
    {
     "data": {
      "text/plain": [
       "array([[[ 8.915992 ,  3.942836 , 19.62103  ],\n",
       "        [ 8.803722 ,  3.9822562, 19.604311 ],\n",
       "        [ 8.958752 ,  3.95293  , 19.508999 ],\n",
       "        ...,\n",
       "        [10.827113 ,  4.971107 , 21.620033 ],\n",
       "        [10.872707 ,  4.8939843, 21.741915 ],\n",
       "        [10.586988 ,  5.111083 , 21.676985 ]]], dtype=float32)"
      ]
     },
     "execution_count": 4,
     "metadata": {},
     "output_type": "execute_result"
    }
   ],
   "source": [
    "traj.xyz"
   ]
  },
  {
   "cell_type": "code",
   "execution_count": 5,
   "id": "60958a5f",
   "metadata": {},
   "outputs": [],
   "source": [
    "traj.save_pdb('../7SL6/7SL6.pdb')"
   ]
  },
  {
   "cell_type": "code",
   "execution_count": null,
   "id": "dce71973",
   "metadata": {},
   "outputs": [],
   "source": []
  }
 ],
 "metadata": {
  "kernelspec": {
   "display_name": "md",
   "language": "python",
   "name": "python3"
  },
  "language_info": {
   "codemirror_mode": {
    "name": "ipython",
    "version": 3
   },
   "file_extension": ".py",
   "mimetype": "text/x-python",
   "name": "python",
   "nbconvert_exporter": "python",
   "pygments_lexer": "ipython3",
   "version": "3.12.9"
  }
 },
 "nbformat": 4,
 "nbformat_minor": 5
}
