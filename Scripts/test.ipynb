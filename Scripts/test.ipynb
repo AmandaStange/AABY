{
 "cells": [
  {
   "cell_type": "code",
   "execution_count": 2,
   "id": "140a93d8",
   "metadata": {},
   "outputs": [],
   "source": [
    "import propka"
   ]
  },
  {
   "cell_type": "code",
   "execution_count": null,
   "id": "d3b95503",
   "metadata": {},
   "outputs": [
    {
     "ename": "NameError",
     "evalue": "name 'proka' is not defined",
     "output_type": "error",
     "traceback": [
      "\u001b[31m---------------------------------------------------------------------------\u001b[39m",
      "\u001b[31mNameError\u001b[39m                                 Traceback (most recent call last)",
      "\u001b[36mCell\u001b[39m\u001b[36m \u001b[39m\u001b[32mIn[3]\u001b[39m\u001b[32m, line 1\u001b[39m\n\u001b[32m----> \u001b[39m\u001b[32m1\u001b[39m \u001b[43mproka\u001b[49m.run(\n\u001b[32m      2\u001b[39m     pdb_file=\u001b[33m\"\u001b[39m\u001b[33m7SL6_medoid_cluster_1_AA_renumbered_SSBOND_fix_heavy_re.pdb\u001b[39m\u001b[33m\"\u001b[39m, \u001b[38;5;66;03m#7SL6_medoid_cluster_1_AA_renumbered_SSBOND_fix_heavy_re.pdb\u001b[39;00m\n\u001b[32m      3\u001b[39m     output_file=\u001b[33m\"\u001b[39m\u001b[33m7SL6_medoid_cluster_1_AA_renumbered_SSBOND_fix_heavy_re.out\u001b[39m\u001b[33m\"\u001b[39m,\n\u001b[32m      4\u001b[39m     pH=\u001b[32m7.4\u001b[39m,\n\u001b[32m      5\u001b[39m     forcefield=\u001b[33m\"\u001b[39m\u001b[33mamber\u001b[39m\u001b[33m\"\u001b[39m,\n\u001b[32m      6\u001b[39m     ion_strength=\u001b[32m0.1\u001b[39m,\n\u001b[32m      7\u001b[39m     temperature=\u001b[32m298.15\u001b[39m,\n\u001b[32m      8\u001b[39m     n_threads=\u001b[32m4\u001b[39m,\n\u001b[32m      9\u001b[39m     verbose=\u001b[38;5;28;01mTrue\u001b[39;00m)\n",
      "\u001b[31mNameError\u001b[39m: name 'proka' is not defined"
     ]
    }
   ],
   "source": [
    "proka.run(\n",
    "    pdb_file=\"7SL6_medoid_cluster_1_AA_renumbered_SSBOND_fix_heavy_re.pdb\", \n",
    "    output_file=\"7SL6_medoid_cluster_1_AA_renumbered_SSBOND_fix_heavy_re.out\",\n",
    "    pH=7.4,\n",
    "    forcefield=\"amber\",\n",
    "    ion_strength=0.1,\n",
    "    temperature=298.15,\n",
    "    n_threads=4,\n",
    "    verbose=True)"
   ]
  }
 ],
 "metadata": {
  "kernelspec": {
   "display_name": "AABY",
   "language": "python",
   "name": "python3"
  },
  "language_info": {
   "codemirror_mode": {
    "name": "ipython",
    "version": 3
   },
   "file_extension": ".py",
   "mimetype": "text/x-python",
   "name": "python",
   "nbconvert_exporter": "python",
   "pygments_lexer": "ipython3",
   "version": "3.12.11"
  }
 },
 "nbformat": 4,
 "nbformat_minor": 5
}
