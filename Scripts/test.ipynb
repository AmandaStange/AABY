{
 "cells": [
  {
   "cell_type": "code",
   "execution_count": 2,
   "id": "140a93d8",
   "metadata": {},
   "outputs": [],
   "source": [
    "import propka"
   ]
  },
  {
   "cell_type": "code",
   "execution_count": null,
   "id": "d3b95503",
   "metadata": {},
   "outputs": [
    {
     "ename": "NameError",
     "evalue": "name 'proka' is not defined",
     "output_type": "error",
     "traceback": [
      "\u001b[31m---------------------------------------------------------------------------\u001b[39m",
      "\u001b[31mNameError\u001b[39m                                 Traceback (most recent call last)",
      "\u001b[36mCell\u001b[39m\u001b[36m \u001b[39m\u001b[32mIn[3]\u001b[39m\u001b[32m, line 1\u001b[39m\n\u001b[32m----> \u001b[39m\u001b[32m1\u001b[39m \u001b[43mproka\u001b[49m.run(\n\u001b[32m      2\u001b[39m     pdb_file=\u001b[33m\"\u001b[39m\u001b[33m7SL6_medoid_cluster_1_AA_renumbered_SSBOND_fix_heavy_re.pdb\u001b[39m\u001b[33m\"\u001b[39m, \u001b[38;5;66;03m#7SL6_medoid_cluster_1_AA_renumbered_SSBOND_fix_heavy_re.pdb\u001b[39;00m\n\u001b[32m      3\u001b[39m     output_file=\u001b[33m\"\u001b[39m\u001b[33m7SL6_medoid_cluster_1_AA_renumbered_SSBOND_fix_heavy_re.out\u001b[39m\u001b[33m\"\u001b[39m,\n\u001b[32m      4\u001b[39m     pH=\u001b[32m7.4\u001b[39m,\n\u001b[32m      5\u001b[39m     forcefield=\u001b[33m\"\u001b[39m\u001b[33mamber\u001b[39m\u001b[33m\"\u001b[39m,\n\u001b[32m      6\u001b[39m     ion_strength=\u001b[32m0.1\u001b[39m,\n\u001b[32m      7\u001b[39m     temperature=\u001b[32m298.15\u001b[39m,\n\u001b[32m      8\u001b[39m     n_threads=\u001b[32m4\u001b[39m,\n\u001b[32m      9\u001b[39m     verbose=\u001b[38;5;28;01mTrue\u001b[39;00m)\n",
      "\u001b[31mNameError\u001b[39m: name 'proka' is not defined"
     ]
    }
   ],
   "source": [
    "proka.run(\n",
    "    pdb_file=\"7SL6_medoid_cluster_1_AA_renumbered_SSBOND_fix_heavy_re.pdb\", \n",
    "    output_file=\"7SL6_medoid_cluster_1_AA_renumbered_SSBOND_fix_heavy_re.out\",\n",
    "    pH=7.4,\n",
    "    forcefield=\"amber\",\n",
    "    ion_strength=0.1,\n",
    "    temperature=298.15,\n",
    "    n_threads=4,\n",
    "    verbose=True)"
   ]
  },
  {
   "cell_type": "code",
   "execution_count": 18,
   "id": "a4490d98",
   "metadata": {},
   "outputs": [],
   "source": [
    "d = {'CYS': 'C', 'ASP': 'D', 'SER': 'S', 'GLN': 'Q', 'LYS': 'K',\n",
    "     'ILE': 'I', 'PRO': 'P', 'THR': 'T', 'PHE': 'F', 'ASN': 'N', \n",
    "     'GLY': 'G', 'HIS': 'H', 'LEU': 'L', 'ARG': 'R', 'TRP': 'W', \n",
    "     'ALA': 'A', 'VAL':'V', 'GLU': 'E', 'TYR': 'Y', 'MET': 'M'}"
   ]
  },
  {
   "cell_type": "code",
   "execution_count": 21,
   "id": "43564afc",
   "metadata": {},
   "outputs": [
    {
     "data": {
      "text/plain": [
       "['CYS',\n",
       " 'ASP',\n",
       " 'SER',\n",
       " 'GLN',\n",
       " 'LYS',\n",
       " 'ILE',\n",
       " 'PRO',\n",
       " 'THR',\n",
       " 'PHE',\n",
       " 'ASN',\n",
       " 'GLY',\n",
       " 'HIS',\n",
       " 'LEU',\n",
       " 'ARG',\n",
       " 'TRP',\n",
       " 'ALA',\n",
       " 'VAL',\n",
       " 'GLU',\n",
       " 'TYR',\n",
       " 'MET']"
      ]
     },
     "execution_count": 21,
     "metadata": {},
     "output_type": "execute_result"
    }
   ],
   "source": [
    "list(d.keys())"
   ]
  },
  {
   "cell_type": "code",
   "execution_count": null,
   "id": "e1ffeddc",
   "metadata": {},
   "outputs": [],
   "source": []
  },
  {
   "cell_type": "code",
   "execution_count": 18,
   "id": "e23de26d",
   "metadata": {},
   "outputs": [],
   "source": [
    "def auto_detect_types(water_model='OPC'):\n",
    "    #input4amber.pdb\n",
    "    # source leaprc.protein.ff19SB\n",
    "    # source leaprc.water.opc\n",
    "    # source leaprc.lipid21\n",
    "    #sed -i '1s/^/task goes here\\n/' todo.txt\n",
    "\n",
    "    forcefields = {'protein': 'protein.ff19SB', 'lipid': 'lipid21', 'dna': 'DNA.OL24', 'rna': 'RNA.OL3', 'water': {'OPC': 'water.opc', 'TIP3P': 'water.tip3p', 'TIP4PEW': 'water.tip4pew'}}\n",
    "\n",
    "    protein = ['CYS','ASP','SER','GLN','LYS','ILE','PRO','THR','PHE','ASN','GLY','HIS','LEU','ARG','TRP','ALA','VAL','GLU','TYR','MET']\n",
    "    lipid = ['PC', 'PA', 'OL', 'CHL']\n",
    "    nucleic = ['A','C','G']\n",
    "    rna = ['U']\n",
    "    dna = ['T']\n",
    "    with open('../tests/input4amber.pdb', 'r') as f:\n",
    "        lines = f.readlines()\n",
    "\n",
    "    resnames = []\n",
    "    \n",
    "    ff_types = []\n",
    "\n",
    "    for line in lines:\n",
    "\n",
    "        l = line.split()\n",
    "\n",
    "        if l[0] == 'END':\n",
    "            break\n",
    "\n",
    "        if l[0] in ['ATOM', 'HETATM']:\n",
    "            resnames.append(l[3])\n",
    "\n",
    "    resnames = list(set(resnames))\n",
    "\n",
    "\n",
    "\n",
    "    for resname in resnames:\n",
    "        if resname in protein:\n",
    "            if 'protein' not in ff_types:\n",
    "                ff_types.append('protein')\n",
    "        elif resname in lipid:\n",
    "            if 'lipid' not in ff_types:\n",
    "                ff_types.append('lipid')\n",
    "        # elif resname in nucleic:\n",
    "        #     if 'nucleic' not in ff_types:\n",
    "        #         ff_types.append('nucleic')\n",
    "        elif resname in rna:\n",
    "            if 'rna' not in ff_types:\n",
    "                ff_types.append('rna')\n",
    "        elif resname in dna:\n",
    "            if 'dna' not in ff_types:\n",
    "                ff_types.append('dna')\n",
    "        else:\n",
    "            print('type not found', resname, ff_types)\n",
    "\n",
    "    leaprc = ''\n",
    "\n",
    "    for ff_type in sorted(ff_types, key=lambda x: len(x), reverse=True):\n",
    "        leaprc += f'source leaprc.{forcefields[ff_type]}\\\\n'\n",
    "\n",
    "    leaprc += f'source leaprc.{forcefields['water'][water_model.upper()]}\\\\n'\n",
    "            \n",
    "    return leaprc"
   ]
  },
  {
   "cell_type": "code",
   "execution_count": 20,
   "id": "81389a42",
   "metadata": {},
   "outputs": [
    {
     "name": "stdout",
     "output_type": "stream",
     "text": [
      "type not found A ['protein', 'rna']\n",
      "type not found C ['protein', 'rna']\n",
      "type not found G ['protein', 'rna']\n",
      "type not found LIG ['protein', 'rna']\n",
      "source leaprc.protein.ff19SB\\nsource leaprc.RNA.OL3\\nsource leaprc.water.tip4pew\\n\n"
     ]
    }
   ],
   "source": [
    "leap = auto_detect_types(water_model='tip4pew')\n",
    "print(leap)"
   ]
  },
  {
   "cell_type": "code",
   "execution_count": 4,
   "id": "4db32593",
   "metadata": {},
   "outputs": [],
   "source": [
    "forcefields = {'protein': 'protein.ff19SB', 'lipid': 'lipid21', 'dna': 'DNA.OL24', 'rna': 'RNA.OL3'}\n"
   ]
  },
  {
   "cell_type": "code",
   "execution_count": 9,
   "id": "e019c2f9",
   "metadata": {},
   "outputs": [
    {
     "data": {
      "text/plain": [
       "['protein', 'lipid', 'dna', 'rna']"
      ]
     },
     "execution_count": 9,
     "metadata": {},
     "output_type": "execute_result"
    }
   ],
   "source": [
    "sorted(list(forcefields.keys()), key=lambda x: len(x), reverse=True)"
   ]
  },
  {
   "cell_type": "code",
   "execution_count": 29,
   "id": "52385d11",
   "metadata": {},
   "outputs": [
    {
     "name": "stdout",
     "output_type": "stream",
     "text": [
      "Running: gmx insert-molecules -f ../tests/dicer_box.pdb -ci ../models/tip5p.gro -o ../tests/dicer_box_t.pdb -nmol 1\n",
      "\n",
      "WARNING: Masses and atomic (Van der Waals) radii will be guessed\n",
      "         based on residue and atom names, since they could not be\n",
      "         definitively assigned from the information in your input\n",
      "         files. These guessed numbers might deviate from the mass\n",
      "         and radius of the atom type. Please check the output\n",
      "         files if necessary. Note, that this functionality may\n",
      "         be removed in a future GROMACS version. Please, consider\n",
      "         using another file format for your input.\n",
      "\n",
      "NOTE: From version 5.0 gmx insert-molecules uses the Van der Waals radii\n",
      "from the source below. This means the results may be different\n",
      "compared to previous GROMACS versions.\n",
      "\n",
      "++++ PLEASE READ AND CITE THE FOLLOWING REFERENCE ++++\n",
      "A. Bondi\n",
      "van der Waals Volumes and Radii\n",
      "J. Phys. Chem. 68 (1964) pp. 441-451\n",
      "-------- -------- --- Thank You --- -------- --------\n",
      "\n"
     ]
    },
    {
     "name": "stderr",
     "output_type": "stream",
     "text": [
      "                  :-) GROMACS - gmx insert-molecules, 2024 (-:\n",
      "\n",
      "Executable:   /mnt/software/gromacs/2024.0-gcc-avx512/bin/gmx\n",
      "Data prefix:  /mnt/software/gromacs/2024.0-gcc-avx512\n",
      "Working dir:  /home/au555720/AABY/Scripts\n",
      "Command line:\n",
      "  gmx insert-molecules -f ../tests/dicer_box.pdb -ci ../models/tip5p.gro -o ../tests/dicer_box_t.pdb -nmol 1\n",
      "\n",
      "Reading solute configuration\n",
      "Initialising inter-atomic distances...\n",
      "Using random seed 1999629183\n",
      "Try 1 success (now 7002 atoms)!\n",
      "\n",
      "Added 1 molecules (out of 1 requested)\n",
      "Writing generated configuration to ../tests/dicer_box_t.pdb\n",
      "\n",
      "Back Off! I just backed up ../tests/dicer_box_t.pdb to ../tests/#dicer_box_t.pdb.3#\n",
      "\n",
      "Output configuration contains 7002 atoms in 781 residues\n",
      "\n",
      "GROMACS reminds you: \"One Cross Each\" (Monty Python)\n",
      "\n"
     ]
    }
   ],
   "source": [
    "\n",
    "run(f'gmx insert-molecules -f ../tests/dicer_box.pdb -ci ../models/{'tip5p'}.gro -o ../tests/dicer_box_t.pdb -nmol 1')"
   ]
  },
  {
   "cell_type": "code",
   "execution_count": 64,
   "id": "d294573b",
   "metadata": {},
   "outputs": [],
   "source": [
    "import argparse\n",
    "import subprocess\n",
    "from pathlib import Path\n",
    "import sys\n",
    "import os\n",
    "import shutil\n",
    "import yaml\n",
    "\n",
    "def run(cmd, shell=True, check=True):\n",
    "    if isinstance(cmd, list):\n",
    "        print(f\"Running: {' '.join(str(x) for x in cmd)}\")\n",
    "    else:\n",
    "        print(f\"Running: {cmd}\")\n",
    "    subprocess.run(cmd, shell=shell, check=check)"
   ]
  },
  {
   "cell_type": "code",
   "execution_count": 55,
   "id": "80d32a91",
   "metadata": {},
   "outputs": [
    {
     "name": "stdout",
     "output_type": "stream",
     "text": [
      "Running: sed -i '1s/^/source leaprc.protein.ff19SB\\nsource leaprc.RNA.OL3\\n/' tleap.in\n"
     ]
    }
   ],
   "source": [
    "run(f\"sed -i '1s/^/{leap}/' tleap.in\")"
   ]
  },
  {
   "cell_type": "code",
   "execution_count": 20,
   "id": "e56eed03",
   "metadata": {},
   "outputs": [],
   "source": [
    "with open('coby_input.yaml') as f:\n",
    "    coby_args = yaml.safe_load(f)"
   ]
  },
  {
   "cell_type": "code",
   "execution_count": 21,
   "id": "42f5afa3",
   "metadata": {},
   "outputs": [],
   "source": [
    "coby_cmd = [\"python3\", \"-m\", \"COBY\"] + coby_args"
   ]
  },
  {
   "cell_type": "code",
   "execution_count": 22,
   "id": "b561ba62",
   "metadata": {},
   "outputs": [],
   "source": [
    "s = ' '.join(str(x) for x in coby_cmd)"
   ]
  },
  {
   "cell_type": "code",
   "execution_count": 30,
   "id": "8e4c7e5f",
   "metadata": {},
   "outputs": [],
   "source": [
    "ions='Na,Cl'"
   ]
  },
  {
   "cell_type": "code",
   "execution_count": 1,
   "id": "487fc639",
   "metadata": {},
   "outputs": [],
   "source": [
    "import mdtraj as md"
   ]
  },
  {
   "cell_type": "code",
   "execution_count": 2,
   "id": "0590de94",
   "metadata": {},
   "outputs": [
    {
     "name": "stdout",
     "output_type": "stream",
     "text": [
      "/home/au555720/AABY/Scripts\n"
     ]
    }
   ],
   "source": [
    "!pwd"
   ]
  },
  {
   "cell_type": "code",
   "execution_count": null,
   "id": "751adae4",
   "metadata": {},
   "outputs": [],
   "source": []
  },
  {
   "cell_type": "code",
   "execution_count": 52,
   "id": "cf979277",
   "metadata": {},
   "outputs": [],
   "source": [
    "protein = ['CYS','ASP','SER','GLN','LYS','ILE','PRO','THR','PHE','ASN','GLY','HIS','LEU','ARG','TRP','ALA','VAL','GLU','TYR','MET', 'GLH','NME','HIE','ACE']\n",
    "lipid = ['PA', 'PH-', 'AR', 'PS', 'ST', 'MY', 'PC', 'DHA', 'SA', 'SPM', 'LAL', 'PGR', 'OL', 'PE']\n",
    "nucleic = ['A','C','G', 'U', 'T']"
   ]
  },
  {
   "cell_type": "code",
   "execution_count": 53,
   "id": "6a21c7fb",
   "metadata": {},
   "outputs": [],
   "source": [
    "lipid_residues = {\"DAPC\": [\"AR\", \"PC\", \"AR\"],\n",
    "\"DLPC\": [\"LAL\", \"PC\", \"LAL\"],\n",
    "\"DLPG\": [\"LAL\", \"PGR\", \"LAL\"],\n",
    "\"DMPC\": [\"MY\", \"PC\", \"MY\"],\n",
    "\"DMPG\": [\"MY\", \"PGR\", \"MY\"],\n",
    "\"DOPC\": [\"OL\", \"PC\", \"OL\"],\n",
    "\"DOPG\": [\"OL\", \"PGR\", \"OL\"],\n",
    "\"DOPS\": [\"OL\", \"PS\", \"OL\"],\n",
    "\"DPPC\": [\"PA\", \"PC\", \"PA\"],\n",
    "\"DPPG\": [\"PA\", \"PGR\", \"PA\"],\n",
    "\"DSPC\": [\"ST\", \"PC\", \"ST\"],\n",
    "\"DSPG\": [\"ST\", \"PGR\", \"ST\"],\n",
    "\"POPA\": [\"PA\", \"PH-\", \"OL\"],\n",
    "\"POPC\": [\"PA\", \"PC\", \"OL\"],\n",
    "\"POPE\": [\"PA\", \"PE\", \"OL\"],\n",
    "\"POPG\": [\"PA\", \"PGR\", \"OL\"],\n",
    "\"POPS\": [\"PA\", \"PS\", \"OL\"],\n",
    "\"PSM\": [\"PA\", \"SPM\", \"SA\"],\n",
    "\"SDPC\": [\"ST\", \"PC\", \"DHA\"],\n",
    "\"SSM\": [\"ST\", \"SPM\", \"SA\"]}"
   ]
  },
  {
   "cell_type": "code",
   "execution_count": null,
   "id": "8120ec81",
   "metadata": {},
   "outputs": [
    {
     "name": "stdout",
     "output_type": "stream",
     "text": [
      "system1.itp\n",
      "system2.itp\n",
      "system3.itp\n",
      "system4.itp\n",
      "system5.itp\n",
      "system6.itp\n",
      "system7.itp\n",
      "system8.itp\n",
      "system9.itp\n",
      "system10.itp\n"
     ]
    }
   ],
   "source": [
    "with open('topol.top') as f:\n",
    "    lines = f.readlines()\n",
    "systems = []\n",
    "for line in lines:\n",
    "    l = line.split()\n",
    "    if len(l) == 0:\n",
    "        break\n",
    "    if l[0] == '#include':\n",
    "        if l[1].split('/')[1][:6] == 'system':\n",
    "            print(l[1].split('/')[1][:-1])\n",
    "            systems.append(l[1][1:-1])\n",
    "system_types = {}\n",
    "number_protein = 1\n",
    "number_nucleic = 1\n",
    "for idx, system in enumerate(systems):\n",
    "    #print(idx, system)\n",
    "    with open(system) as f:\n",
    "        lines = f.readlines()\n",
    "        atoms = False\n",
    "        residues = []\n",
    "        for line in lines:\n",
    "            # print(line[:6] )\n",
    "            if atoms:\n",
    "                if line.startswith('\\n'):\n",
    "                    atoms = False\n",
    "                    residues = sorted(list(set(residues)))\n",
    "                    for l, r in lipid_residues.items():\n",
    "                        #print(l,r, residues, sorted(set(r)))\n",
    "                        if residues == sorted(set(r)):\n",
    "                            system_types[idx+1] = l\n",
    "                    break\n",
    "                res = line.split()[3]\n",
    "                if res in protein:\n",
    "                    system_types[idx+1] = f'protein{number_protein}'\n",
    "                    number_protein += 1\n",
    "                    break\n",
    "                elif res in nucleic:\n",
    "                    system_types[idx+1] = f'nucleic{number_nucleic}'\n",
    "                    number_nucleic += 1\n",
    "                    break\n",
    "                else:\n",
    "                    residues.append(res)\n",
    "            if line[:6] == ';   nr':\n",
    "                atoms = True\n",
    "for system, system_type in system_types.items():\n",
    "    print(system, system_type)\n",
    "    run(f'mv toppar/system{system}.itp toppar/{system_type}.itp')\n",
    "    run(fr'sed -i \"s/system{system}\\./{system_type}\\./g\" toppar/{system_type}.itp')\n",
    "    run(fr'sed -i \"s/system{system}\\./{system_type}\\./g\" topol.top')\n",
    "    run(f'sed -i \"s/system{system} /{system_type} /g\" toppar/{system_type}.itp')\n",
    "    run(f'sed -i \"s/system{system} /{system_type} /g\" topol.top')\n"
   ]
  },
  {
   "cell_type": "code",
   "execution_count": null,
   "id": "b9e5a1ea",
   "metadata": {},
   "outputs": [],
   "source": []
  },
  {
   "cell_type": "code",
   "execution_count": null,
   "id": "5000133a",
   "metadata": {},
   "outputs": [
    {
     "name": "stdout",
     "output_type": "stream",
     "text": [
      "1 protein1\n",
      "Running: mv toppar/system1.itp toppar/protein1.itp\n",
      "Running: sed -i \"s/system1\\./protein1\\./g\" toppar/protein1.itp\n",
      "Running: sed -i \"s/system1\\./protein1\\./g\" topol.top\n",
      "Running: sed -i \"s/system1 /protein1 /g\" toppar/protein1.itp\n",
      "Running: sed -i \"s/system1 /protein1 /g\" topol.top\n",
      "2 protein2\n",
      "Running: mv toppar/system2.itp toppar/protein2.itp\n",
      "Running: sed -i \"s/system2\\./protein2\\./g\" toppar/protein2.itp\n",
      "Running: sed -i \"s/system2\\./protein2\\./g\" topol.top\n",
      "Running: sed -i \"s/system2 /protein2 /g\" toppar/protein2.itp\n",
      "Running: sed -i \"s/system2 /protein2 /g\" topol.top\n",
      "3 protein3\n",
      "Running: mv toppar/system3.itp toppar/protein3.itp\n",
      "Running: sed -i \"s/system3\\./protein3\\./g\" toppar/protein3.itp\n",
      "Running: sed -i \"s/system3\\./protein3\\./g\" topol.top\n",
      "Running: sed -i \"s/system3 /protein3 /g\" toppar/protein3.itp\n",
      "Running: sed -i \"s/system3 /protein3 /g\" topol.top\n",
      "4 protein4\n",
      "Running: mv toppar/system4.itp toppar/protein4.itp\n",
      "Running: sed -i \"s/system4\\./protein4\\./g\" toppar/protein4.itp\n",
      "Running: sed -i \"s/system4\\./protein4\\./g\" topol.top\n",
      "Running: sed -i \"s/system4 /protein4 /g\" toppar/protein4.itp\n",
      "Running: sed -i \"s/system4 /protein4 /g\" topol.top\n",
      "5 protein5\n",
      "Running: mv toppar/system5.itp toppar/protein5.itp\n",
      "Running: sed -i \"s/system5\\./protein5\\./g\" toppar/protein5.itp\n",
      "Running: sed -i \"s/system5\\./protein5\\./g\" topol.top\n",
      "Running: sed -i \"s/system5 /protein5 /g\" toppar/protein5.itp\n",
      "Running: sed -i \"s/system5 /protein5 /g\" topol.top\n",
      "6 nucleic1\n",
      "Running: mv toppar/system6.itp toppar/nucleic1.itp\n",
      "Running: sed -i \"s/system6\\./nucleic1\\./g\" toppar/nucleic1.itp\n",
      "Running: sed -i \"s/system6\\./nucleic1\\./g\" topol.top\n",
      "Running: sed -i \"s/system6 /nucleic1 /g\" toppar/nucleic1.itp\n",
      "Running: sed -i \"s/system6 /nucleic1 /g\" topol.top\n",
      "7 nucleic2\n",
      "Running: mv toppar/system7.itp toppar/nucleic2.itp\n",
      "Running: sed -i \"s/system7\\./nucleic2\\./g\" toppar/nucleic2.itp\n",
      "Running: sed -i \"s/system7\\./nucleic2\\./g\" topol.top\n",
      "Running: sed -i \"s/system7 /nucleic2 /g\" toppar/nucleic2.itp\n",
      "Running: sed -i \"s/system7 /nucleic2 /g\" topol.top\n",
      "8 DAPC\n",
      "Running: mv toppar/system8.itp toppar/DAPC.itp\n",
      "Running: sed -i \"s/system8\\./DAPC\\./g\" toppar/DAPC.itp\n",
      "Running: sed -i \"s/system8\\./DAPC\\./g\" topol.top\n",
      "Running: sed -i \"s/system8 /DAPC /g\" toppar/DAPC.itp\n",
      "Running: sed -i \"s/system8 /DAPC /g\" topol.top\n",
      "9 POPA\n",
      "Running: mv toppar/system9.itp toppar/POPA.itp\n",
      "Running: sed -i \"s/system9\\./POPA\\./g\" toppar/POPA.itp\n",
      "Running: sed -i \"s/system9\\./POPA\\./g\" topol.top\n",
      "Running: sed -i \"s/system9 /POPA /g\" toppar/POPA.itp\n",
      "Running: sed -i \"s/system9 /POPA /g\" topol.top\n",
      "10 POPC\n",
      "Running: mv toppar/system10.itp toppar/POPC.itp\n",
      "Running: sed -i \"s/system10\\./POPC\\./g\" toppar/POPC.itp\n",
      "Running: sed -i \"s/system10\\./POPC\\./g\" topol.top\n",
      "Running: sed -i \"s/system10 /POPC /g\" toppar/POPC.itp\n",
      "Running: sed -i \"s/system10 /POPC /g\" topol.top\n"
     ]
    }
   ],
   "source": []
  },
  {
   "cell_type": "code",
   "execution_count": 34,
   "id": "0db6292f",
   "metadata": {},
   "outputs": [
    {
     "name": "stdout",
     "output_type": "stream",
     "text": [
      "\"DAPC\": [\"AR\", \"PC\", \"AR\"],\n",
      "\"DLPC\": [\"LAL\", \"PC\", \"LAL\"],\n",
      "\"DLPG\": [\"LAL\", \"PGR\", \"LAL\"],\n",
      "\"DMPC\": [\"MY\", \"PC\", \"MY\"],\n",
      "\"DMPG\": [\"MY\", \"PGR\", \"MY\"],\n",
      "\"DOPC\": [\"OL\", \"PC\", \"OL\"],\n",
      "\"DOPG\": [\"OL\", \"PGR\", \"OL\"],\n",
      "\"DOPS\": [\"OL\", \"PS\", \"OL\"],\n",
      "\"DPPC\": [\"PA\", \"PC\", \"PA\"],\n",
      "\"DPPG\": [\"PA\", \"PGR\", \"PA\"],\n",
      "\"DSPC\": [\"ST\", \"PC\", \"ST\"],\n",
      "\"DSPG\": [\"ST\", \"PGR\", \"ST\"],\n",
      "\"POPA\": [\"PA\", \"PH-\", \"OL\"],\n",
      "\"POPC\": [\"PA\", \"PC\", \"OL\"],\n",
      "\"POPE\": [\"PA\", \"PE\", \"OL\"],\n",
      "\"POPG\": [\"PA\", \"PGR\", \"OL\"],\n",
      "\"POPS\": [\"PA\", \"PS\", \"OL\"],\n",
      "\"PSM\": [\"PA\", \"SPM\", \"SA\"],\n",
      "\"SDPC\": [\"ST\", \"PC\", \"DHA\"],\n",
      "\"SSM\": [\"ST\", \"SPM\", \"SA\"],\n"
     ]
    }
   ],
   "source": [
    "ranges_per_lipid = {\n",
    "\"DAPC\": [(1, 50, \"AR\"), (51, 88, \"PC\"), (89, 138, \"AR\")],\n",
    "\"DLPC\": [(1, 34, \"LAL\"), (35, 72, \"PC\"), (73, 106, \"LAL\")],\n",
    "\"DLPG\": [(1, 34, \"LAL\"), (35, 65, \"PGR\"), (66, 99, \"LAL\")],\n",
    "\"DMPC\": [(1, 40, \"MY\"), (41, 78, \"PC\"), (79, 118, \"MY\")],\n",
    "\"DMPG\": [(1, 40, \"MY\"), (41, 71, \"PGR\"), (72, 111, \"MY\")],\n",
    "\"DOPC\": [(1, 50, \"OL\"), (51, 88, \"PC\"), (89, 138, \"OL\")],\n",
    "\"DOPG\": [(1, 50, \"OL\"), (51, 81, \"PGR\"), (82, 131, \"OL\")],\n",
    "\"DOPS\": [(1, 50, \"OL\"), (51, 81, \"PS\"), (82, 131, \"OL\")],\n",
    "\"DPPC\": [(1, 46, \"PA\"), (47, 84, \"PC\"), (85, 130, \"PA\")],\n",
    "\"DPPG\": [(1, 46, \"PA\"), (47, 77, \"PGR\"), (78, 123, \"PA\")],\n",
    "\"DSPC\": [(1, 52, \"ST\"), (53, 90, \"PC\"), (91, 142, \"ST\")],\n",
    "\"DSPG\": [(1, 52, \"ST\"), (53, 83, \"PGR\"), (84, 135, \"ST\")],\n",
    "\"POPA\": [(1, 46, \"PA\"), (47, 66, \"PH-\"), (67, 116, \"OL\")],\n",
    "\"POPC\": [(1, 46, \"PA\"), (47, 84, \"PC\"), (85, 134, \"OL\")],\n",
    "\"POPE\": [(1, 46, \"PA\"), (47, 75, \"PE\"), (76, 125, \"OL\")],\n",
    "\"POPG\": [(1, 46, \"PA\"), (47, 77, \"PGR\"), (78, 127, \"OL\")],\n",
    "\"POPS\": [(1, 46, \"PA\"), (47, 77, \"PS\"), (78, 127, \"OL\")],\n",
    "\"PSM\": [(1, 46, \"PA\"), (47, 83, \"SPM\"), (84, 127, \"SA\")],\n",
    "\"SDPC\": [(1, 52, \"ST\"), (53, 90, \"PC\"), (91, 142, \"DHA\")],\n",
    "\"SSM\": [(1, 52, \"ST\"), (53, 89, \"SPM\"), (90, 133, \"SA\")]}\n",
    "\n",
    "for k, v in ranges_per_lipid.items():\n",
    "    print(f'\"{k}\":', f'[\"{v[0][-1]}\", \"{v[1][-1]}\", \"{v[2][-1]}\"],')"
   ]
  },
  {
   "cell_type": "code",
   "execution_count": null,
   "id": "c1dbb2b8",
   "metadata": {},
   "outputs": [],
   "source": [
    "def auto_detect_types(water_model='OPC'):\n",
    "    #input4amber.pdb\n",
    "    # source leaprc.protein.ff19SB\n",
    "    # source leaprc.water.opc\n",
    "    # source leaprc.lipid21\n",
    "    #sed -i '1s/^/task goes here\\n/' todo.txt\n",
    "\n",
    "    forcefields = {'protein': 'protein.ff19SB', 'lipid': 'lipid21', 'dna': 'DNA.OL24', 'rna': 'RNA.OL3', 'water': {'OPC': 'water.opc', 'TIP3P': 'water.tip3p', 'TIP4PEW': 'water.tip4pew'}}\n",
    "\n",
    "    protein = ['CYS','ASP','SER','GLN','LYS','ILE','PRO','THR','PHE','ASN','GLY','HIS','LEU','ARG','TRP','ALA','VAL','GLU','TYR','MET', 'GLH','NME','HIE','ACE']\n",
    "    lipid = ['PC', 'PA', 'OL', 'CHL']\n",
    "    lipid = ['PA', 'PH-', 'AR', 'PS', 'ST', 'MY', 'PC', 'DHA', 'SA', 'SPM', 'LAL', 'PGR', 'OL', 'PE']\n",
    "    nucleic = ['A','C','G']\n",
    "    rna = ['U']\n",
    "    dna = ['T']\n",
    "    with open('input4amber.pdb', 'r') as f:\n",
    "        lines = f.readlines()\n",
    "\n",
    "    resnames = []\n",
    "    \n",
    "    ff_types = []\n",
    "\n",
    "    for line in lines:\n",
    "\n",
    "        l = line.split()\n",
    "\n",
    "        if l[0] == 'END':\n",
    "            break\n",
    "\n",
    "        if l[0] in ['ATOM', 'HETATM']:\n",
    "            resnames.append(l[3])\n",
    "\n",
    "    resnames = list(set(resnames))\n",
    "\n",
    "\n",
    "\n",
    "    for resname in resnames:\n",
    "        if resname in protein:\n",
    "            if 'protein' not in ff_types:\n",
    "                ff_types.append('protein')\n",
    "        elif resname in lipid:\n",
    "            if 'lipid' not in ff_types:\n",
    "                ff_types.append('lipid')\n",
    "        # elif resname in nucleic:\n",
    "        #     if 'nucleic' not in ff_types:\n",
    "        #         ff_types.append('nucleic')\n",
    "        elif resname in rna:\n",
    "            if 'rna' not in ff_types:\n",
    "                ff_types.append('rna')\n",
    "        elif resname in dna:\n",
    "            if 'dna' not in ff_types:\n",
    "                ff_types.append('dna')\n",
    "        else:\n",
    "            print('type not found', resname, ff_types)\n",
    "\n",
    "    leaprc = ''\n",
    "\n",
    "    for ff_type in sorted(ff_types, key=lambda x: len(x), reverse=True):\n",
    "        leaprc += f'source leaprc.{forcefields[ff_type]}\\\\n'\n",
    "\n",
    "    leaprc += f'source leaprc.{forcefields['water'][water_model.upper()]}\\\\n'\n",
    "            \n",
    "    return leaprc"
   ]
  }
 ],
 "metadata": {
  "kernelspec": {
   "display_name": "md",
   "language": "python",
   "name": "python3"
  },
  "language_info": {
   "codemirror_mode": {
    "name": "ipython",
    "version": 3
   },
   "file_extension": ".py",
   "mimetype": "text/x-python",
   "name": "python",
   "nbconvert_exporter": "python",
   "pygments_lexer": "ipython3",
   "version": "3.12.9"
  }
 },
 "nbformat": 4,
 "nbformat_minor": 5
}
