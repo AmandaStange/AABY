{
 "cells": [
  {
   "cell_type": "code",
   "execution_count": 2,
   "id": "140a93d8",
   "metadata": {},
   "outputs": [],
   "source": [
    "import propka"
   ]
  },
  {
   "cell_type": "code",
   "execution_count": null,
   "id": "d3b95503",
   "metadata": {},
   "outputs": [
    {
     "ename": "NameError",
     "evalue": "name 'proka' is not defined",
     "output_type": "error",
     "traceback": [
      "\u001b[31m---------------------------------------------------------------------------\u001b[39m",
      "\u001b[31mNameError\u001b[39m                                 Traceback (most recent call last)",
      "\u001b[36mCell\u001b[39m\u001b[36m \u001b[39m\u001b[32mIn[3]\u001b[39m\u001b[32m, line 1\u001b[39m\n\u001b[32m----> \u001b[39m\u001b[32m1\u001b[39m \u001b[43mproka\u001b[49m.run(\n\u001b[32m      2\u001b[39m     pdb_file=\u001b[33m\"\u001b[39m\u001b[33m7SL6_medoid_cluster_1_AA_renumbered_SSBOND_fix_heavy_re.pdb\u001b[39m\u001b[33m\"\u001b[39m, \u001b[38;5;66;03m#7SL6_medoid_cluster_1_AA_renumbered_SSBOND_fix_heavy_re.pdb\u001b[39;00m\n\u001b[32m      3\u001b[39m     output_file=\u001b[33m\"\u001b[39m\u001b[33m7SL6_medoid_cluster_1_AA_renumbered_SSBOND_fix_heavy_re.out\u001b[39m\u001b[33m\"\u001b[39m,\n\u001b[32m      4\u001b[39m     pH=\u001b[32m7.4\u001b[39m,\n\u001b[32m      5\u001b[39m     forcefield=\u001b[33m\"\u001b[39m\u001b[33mamber\u001b[39m\u001b[33m\"\u001b[39m,\n\u001b[32m      6\u001b[39m     ion_strength=\u001b[32m0.1\u001b[39m,\n\u001b[32m      7\u001b[39m     temperature=\u001b[32m298.15\u001b[39m,\n\u001b[32m      8\u001b[39m     n_threads=\u001b[32m4\u001b[39m,\n\u001b[32m      9\u001b[39m     verbose=\u001b[38;5;28;01mTrue\u001b[39;00m)\n",
      "\u001b[31mNameError\u001b[39m: name 'proka' is not defined"
     ]
    }
   ],
   "source": [
    "proka.run(\n",
    "    pdb_file=\"7SL6_medoid_cluster_1_AA_renumbered_SSBOND_fix_heavy_re.pdb\", \n",
    "    output_file=\"7SL6_medoid_cluster_1_AA_renumbered_SSBOND_fix_heavy_re.out\",\n",
    "    pH=7.4,\n",
    "    forcefield=\"amber\",\n",
    "    ion_strength=0.1,\n",
    "    temperature=298.15,\n",
    "    n_threads=4,\n",
    "    verbose=True)"
   ]
  },
  {
   "cell_type": "code",
   "execution_count": 18,
   "id": "a4490d98",
   "metadata": {},
   "outputs": [],
   "source": [
    "d = {'CYS': 'C', 'ASP': 'D', 'SER': 'S', 'GLN': 'Q', 'LYS': 'K',\n",
    "     'ILE': 'I', 'PRO': 'P', 'THR': 'T', 'PHE': 'F', 'ASN': 'N', \n",
    "     'GLY': 'G', 'HIS': 'H', 'LEU': 'L', 'ARG': 'R', 'TRP': 'W', \n",
    "     'ALA': 'A', 'VAL':'V', 'GLU': 'E', 'TYR': 'Y', 'MET': 'M'}"
   ]
  },
  {
   "cell_type": "code",
   "execution_count": 21,
   "id": "43564afc",
   "metadata": {},
   "outputs": [
    {
     "data": {
      "text/plain": [
       "['CYS',\n",
       " 'ASP',\n",
       " 'SER',\n",
       " 'GLN',\n",
       " 'LYS',\n",
       " 'ILE',\n",
       " 'PRO',\n",
       " 'THR',\n",
       " 'PHE',\n",
       " 'ASN',\n",
       " 'GLY',\n",
       " 'HIS',\n",
       " 'LEU',\n",
       " 'ARG',\n",
       " 'TRP',\n",
       " 'ALA',\n",
       " 'VAL',\n",
       " 'GLU',\n",
       " 'TYR',\n",
       " 'MET']"
      ]
     },
     "execution_count": 21,
     "metadata": {},
     "output_type": "execute_result"
    }
   ],
   "source": [
    "list(d.keys())"
   ]
  },
  {
   "cell_type": "code",
   "execution_count": null,
   "id": "e1ffeddc",
   "metadata": {},
   "outputs": [],
   "source": []
  },
  {
   "cell_type": "code",
   "execution_count": 18,
   "id": "e23de26d",
   "metadata": {},
   "outputs": [],
   "source": [
    "def auto_detect_types(water_model='OPC'):\n",
    "    #input4amber.pdb\n",
    "    # source leaprc.protein.ff19SB\n",
    "    # source leaprc.water.opc\n",
    "    # source leaprc.lipid21\n",
    "    #sed -i '1s/^/task goes here\\n/' todo.txt\n",
    "\n",
    "    forcefields = {'protein': 'protein.ff19SB', 'lipid': 'lipid21', 'dna': 'DNA.OL24', 'rna': 'RNA.OL3', 'water': {'OPC': 'water.opc', 'TIP3P': 'water.tip3p', 'TIP4PEW': 'water.tip4pew'}}\n",
    "\n",
    "    protein = ['CYS','ASP','SER','GLN','LYS','ILE','PRO','THR','PHE','ASN','GLY','HIS','LEU','ARG','TRP','ALA','VAL','GLU','TYR','MET']\n",
    "    lipid = ['PC', 'PA', 'OL', 'CHL']\n",
    "    nucleic = ['A','C','G']\n",
    "    rna = ['U']\n",
    "    dna = ['T']\n",
    "    with open('../tests/input4amber.pdb', 'r') as f:\n",
    "        lines = f.readlines()\n",
    "\n",
    "    resnames = []\n",
    "    \n",
    "    ff_types = []\n",
    "\n",
    "    for line in lines:\n",
    "\n",
    "        l = line.split()\n",
    "\n",
    "        if l[0] == 'END':\n",
    "            break\n",
    "\n",
    "        if l[0] in ['ATOM', 'HETATM']:\n",
    "            resnames.append(l[3])\n",
    "\n",
    "    resnames = list(set(resnames))\n",
    "\n",
    "\n",
    "\n",
    "    for resname in resnames:\n",
    "        if resname in protein:\n",
    "            if 'protein' not in ff_types:\n",
    "                ff_types.append('protein')\n",
    "        elif resname in lipid:\n",
    "            if 'lipid' not in ff_types:\n",
    "                ff_types.append('lipid')\n",
    "        # elif resname in nucleic:\n",
    "        #     if 'nucleic' not in ff_types:\n",
    "        #         ff_types.append('nucleic')\n",
    "        elif resname in rna:\n",
    "            if 'rna' not in ff_types:\n",
    "                ff_types.append('rna')\n",
    "        elif resname in dna:\n",
    "            if 'dna' not in ff_types:\n",
    "                ff_types.append('dna')\n",
    "        else:\n",
    "            print('type not found', resname, ff_types)\n",
    "\n",
    "    leaprc = ''\n",
    "\n",
    "    for ff_type in sorted(ff_types, key=lambda x: len(x), reverse=True):\n",
    "        leaprc += f'source leaprc.{forcefields[ff_type]}\\\\n'\n",
    "\n",
    "    leaprc += f'source leaprc.{forcefields['water'][water_model.upper()]}\\\\n'\n",
    "            \n",
    "    return leaprc"
   ]
  },
  {
   "cell_type": "code",
   "execution_count": 20,
   "id": "81389a42",
   "metadata": {},
   "outputs": [
    {
     "name": "stdout",
     "output_type": "stream",
     "text": [
      "type not found A ['protein', 'rna']\n",
      "type not found C ['protein', 'rna']\n",
      "type not found G ['protein', 'rna']\n",
      "type not found LIG ['protein', 'rna']\n",
      "source leaprc.protein.ff19SB\\nsource leaprc.RNA.OL3\\nsource leaprc.water.tip4pew\\n\n"
     ]
    }
   ],
   "source": [
    "leap = auto_detect_types(water_model='tip4pew')\n",
    "print(leap)"
   ]
  },
  {
   "cell_type": "code",
   "execution_count": 4,
   "id": "4db32593",
   "metadata": {},
   "outputs": [],
   "source": [
    "forcefields = {'protein': 'protein.ff19SB', 'lipid': 'lipid21', 'dna': 'DNA.OL24', 'rna': 'RNA.OL3'}\n"
   ]
  },
  {
   "cell_type": "code",
   "execution_count": 9,
   "id": "e019c2f9",
   "metadata": {},
   "outputs": [
    {
     "data": {
      "text/plain": [
       "['protein', 'lipid', 'dna', 'rna']"
      ]
     },
     "execution_count": 9,
     "metadata": {},
     "output_type": "execute_result"
    }
   ],
   "source": [
    "sorted(list(forcefields.keys()), key=lambda x: len(x), reverse=True)"
   ]
  },
  {
   "cell_type": "code",
   "execution_count": null,
   "id": "52385d11",
   "metadata": {},
   "outputs": [
    {
     "ename": "NameError",
     "evalue": "name 'water_model' is not defined",
     "output_type": "error",
     "traceback": [
      "\u001b[31m---------------------------------------------------------------------------\u001b[39m",
      "\u001b[31mNameError\u001b[39m                                 Traceback (most recent call last)",
      "\u001b[36mCell\u001b[39m\u001b[36m \u001b[39m\u001b[32mIn[22]\u001b[39m\u001b[32m, line 1\u001b[39m\n\u001b[32m----> \u001b[39m\u001b[32m1\u001b[39m run(\u001b[33mf\u001b[39m\u001b[33m'\u001b[39m\u001b[33mgmx insert-molecules -f tests/input4amber.pdb -ci models/\u001b[39m\u001b[38;5;132;01m{\u001b[39;00m\u001b[43mwater_model\u001b[49m.lower()\u001b[38;5;132;01m}\u001b[39;00m\u001b[33m.gro -o tests/input4amber.pdb -nmol 1\u001b[39m\u001b[33m'\u001b[39m)\n",
      "\u001b[31mNameError\u001b[39m: name 'water_model' is not defined"
     ]
    }
   ],
   "source": [
    "\n",
    "run(f'gmx insert-molecules -f tests/input4amber.pdb -ci models/{args.water.lower()}.gro -o tests/input4amber.pdb -nmol 1')"
   ]
  },
  {
   "cell_type": "code",
   "execution_count": 21,
   "id": "d294573b",
   "metadata": {},
   "outputs": [],
   "source": [
    "import argparse\n",
    "import subprocess\n",
    "from pathlib import Path\n",
    "import sys\n",
    "import os\n",
    "import shutil\n",
    "import yaml\n",
    "\n",
    "def run(cmd, shell=True, check=True):\n",
    "    if isinstance(cmd, list):\n",
    "        print(f\"Running: {' '.join(str(x) for x in cmd)}\")\n",
    "    else:\n",
    "        print(f\"Running: {cmd}\")\n",
    "    subprocess.run(cmd, shell=shell, check=check)"
   ]
  },
  {
   "cell_type": "code",
   "execution_count": 55,
   "id": "80d32a91",
   "metadata": {},
   "outputs": [
    {
     "name": "stdout",
     "output_type": "stream",
     "text": [
      "Running: sed -i '1s/^/source leaprc.protein.ff19SB\\nsource leaprc.RNA.OL3\\n/' tleap.in\n"
     ]
    }
   ],
   "source": [
    "run(f\"sed -i '1s/^/{leap}/' tleap.in\")"
   ]
  },
  {
   "cell_type": "code",
   "execution_count": 20,
   "id": "e56eed03",
   "metadata": {},
   "outputs": [],
   "source": [
    "with open('coby_input.yaml') as f:\n",
    "    coby_args = yaml.safe_load(f)"
   ]
  },
  {
   "cell_type": "code",
   "execution_count": 21,
   "id": "42f5afa3",
   "metadata": {},
   "outputs": [],
   "source": [
    "coby_cmd = [\"python3\", \"-m\", \"COBY\"] + coby_args"
   ]
  },
  {
   "cell_type": "code",
   "execution_count": 22,
   "id": "b561ba62",
   "metadata": {},
   "outputs": [],
   "source": [
    "s = ' '.join(str(x) for x in coby_cmd)"
   ]
  },
  {
   "cell_type": "code",
   "execution_count": 23,
   "id": "8e4c7e5f",
   "metadata": {},
   "outputs": [
    {
     "data": {
      "text/plain": [
       "'python3 -m COBY -box 18 18 23 -membrane lipid:POPC:6:apl:.69:params:Amber lipid:CHL:4:apl:.41:params:Amber optimize_run:False grid_maker_algorithm:no_groups center:0:0:-7 -protein file:{protein_pdb} charge:-28 cen_method:875-915:1790-1829 cz:4 -solvation solv:OPC:1:params:AA_Amber pos:Na+:1:params:AA neg:Cl-:1:params:AA count:True bead_radius:0.12 kick:0.03 buffer:0.1 protein_extra_buffer:0.0 -itp_input file:coby_input.top -molecule_import file:toppar/POPC_rotated.pdb moleculetype:POPC params:Amber -molecule_import file:toppar/CHL_rotated.pdb moleculetype:CHL params:Amber -out_sys COBY.pdb -out_top COBY.top'"
      ]
     },
     "execution_count": 23,
     "metadata": {},
     "output_type": "execute_result"
    }
   ],
   "source": [
    "s"
   ]
  }
 ],
 "metadata": {
  "kernelspec": {
   "display_name": "md",
   "language": "python",
   "name": "python3"
  },
  "language_info": {
   "codemirror_mode": {
    "name": "ipython",
    "version": 3
   },
   "file_extension": ".py",
   "mimetype": "text/x-python",
   "name": "python",
   "nbconvert_exporter": "python",
   "pygments_lexer": "ipython3",
   "version": "3.12.9"
  }
 },
 "nbformat": 4,
 "nbformat_minor": 5
}
